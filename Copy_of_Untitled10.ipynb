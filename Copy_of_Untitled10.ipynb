{
  "cells": [
    {
      "cell_type": "markdown",
      "metadata": {
        "id": "view-in-github",
        "colab_type": "text"
      },
      "source": [
        "<a href=\"https://colab.research.google.com/github/spidroid3810/Craneloader.github.io/blob/main/Copy_of_Untitled10.ipynb\" target=\"_parent\"><img src=\"https://colab.research.google.com/assets/colab-badge.svg\" alt=\"Open In Colab\"/></a>"
      ]
    },
    {
      "cell_type": "code",
      "execution_count": null,
      "metadata": {
        "colab": {
          "base_uri": "https://localhost:8080/"
        },
        "id": "HwW1z6sx7cQZ",
        "outputId": "cf1bd3f1-45d4-499a-df2b-915a55e6cac9"
      },
      "outputs": [
        {
          "output_type": "stream",
          "name": "stdout",
          "text": [
            "Cloning into 'text-to-image-model'...\n",
            "remote: Enumerating objects: 94, done.\u001b[K\n",
            "remote: Counting objects: 100% (94/94), done.\u001b[K\n",
            "remote: Compressing objects: 100% (87/87), done.\u001b[K\n",
            "remote: Total 94 (delta 41), reused 0 (delta 0), pack-reused 0 (from 0)\u001b[K\n",
            "Receiving objects: 100% (94/94), 692.39 KiB | 6.59 MiB/s, done.\n",
            "Resolving deltas: 100% (41/41), done.\n"
          ]
        }
      ],
      "source": [
        "\n",
        "!git clone https://github.com/spidroid3810/text-to-image-model.git"
      ]
    },
    {
      "cell_type": "code",
      "execution_count": null,
      "metadata": {
        "colab": {
          "base_uri": "https://localhost:8080/"
        },
        "id": "qWklddNJ7qbW",
        "outputId": "cd9ea4e7-1175-43db-c4f7-0ce9e49ffa99"
      },
      "outputs": [
        {
          "output_type": "stream",
          "name": "stdout",
          "text": [
            "/content/text-to-image-model\n"
          ]
        }
      ],
      "source": [
        "%cd text-to-image-model"
      ]
    },
    {
      "cell_type": "code",
      "execution_count": null,
      "metadata": {
        "colab": {
          "base_uri": "https://localhost:8080/"
        },
        "id": "R5lp7E087tE4",
        "outputId": "1b45ee46-3195-4a7e-88ae-13c4c9f5fa88"
      },
      "outputs": [
        {
          "output_type": "stream",
          "name": "stdout",
          "text": [
            "Requirement already satisfied: torch in /usr/local/lib/python3.10/dist-packages (2.4.0+cpu)\n",
            "Requirement already satisfied: torchvision in /usr/local/lib/python3.10/dist-packages (0.19.0+cpu)\n",
            "Requirement already satisfied: transformers in /usr/local/lib/python3.10/dist-packages (4.44.2)\n",
            "Requirement already satisfied: filelock in /usr/local/lib/python3.10/dist-packages (from torch) (3.16.1)\n",
            "Requirement already satisfied: typing-extensions>=4.8.0 in /usr/local/lib/python3.10/dist-packages (from torch) (4.12.2)\n",
            "Requirement already satisfied: sympy in /usr/local/lib/python3.10/dist-packages (from torch) (1.13.3)\n",
            "Requirement already satisfied: networkx in /usr/local/lib/python3.10/dist-packages (from torch) (3.3)\n",
            "Requirement already satisfied: jinja2 in /usr/local/lib/python3.10/dist-packages (from torch) (3.1.4)\n",
            "Requirement already satisfied: fsspec in /usr/local/lib/python3.10/dist-packages (from torch) (2024.9.0)\n",
            "Requirement already satisfied: numpy in /usr/local/lib/python3.10/dist-packages (from torchvision) (1.26.4)\n",
            "Requirement already satisfied: pillow!=8.3.*,>=5.3.0 in /usr/local/lib/python3.10/dist-packages (from torchvision) (10.4.0)\n",
            "Requirement already satisfied: huggingface-hub<1.0,>=0.23.2 in /usr/local/lib/python3.10/dist-packages (from transformers) (0.24.7)\n",
            "Requirement already satisfied: packaging>=20.0 in /usr/local/lib/python3.10/dist-packages (from transformers) (24.1)\n",
            "Requirement already satisfied: pyyaml>=5.1 in /usr/local/lib/python3.10/dist-packages (from transformers) (6.0.2)\n",
            "Requirement already satisfied: regex!=2019.12.17 in /usr/local/lib/python3.10/dist-packages (from transformers) (2024.9.11)\n",
            "Requirement already satisfied: requests in /usr/local/lib/python3.10/dist-packages (from transformers) (2.32.3)\n",
            "Requirement already satisfied: safetensors>=0.4.1 in /usr/local/lib/python3.10/dist-packages (from transformers) (0.4.5)\n",
            "Requirement already satisfied: tokenizers<0.20,>=0.19 in /usr/local/lib/python3.10/dist-packages (from transformers) (0.19.1)\n",
            "Requirement already satisfied: tqdm>=4.27 in /usr/local/lib/python3.10/dist-packages (from transformers) (4.66.5)\n",
            "Requirement already satisfied: MarkupSafe>=2.0 in /usr/local/lib/python3.10/dist-packages (from jinja2->torch) (2.1.5)\n",
            "Requirement already satisfied: charset-normalizer<4,>=2 in /usr/local/lib/python3.10/dist-packages (from requests->transformers) (3.3.2)\n",
            "Requirement already satisfied: idna<4,>=2.5 in /usr/local/lib/python3.10/dist-packages (from requests->transformers) (3.10)\n",
            "Requirement already satisfied: urllib3<3,>=1.21.1 in /usr/local/lib/python3.10/dist-packages (from requests->transformers) (2.2.3)\n",
            "Requirement already satisfied: certifi>=2017.4.17 in /usr/local/lib/python3.10/dist-packages (from requests->transformers) (2024.8.30)\n",
            "Requirement already satisfied: mpmath<1.4,>=1.1.0 in /usr/local/lib/python3.10/dist-packages (from sympy->torch) (1.3.0)\n"
          ]
        }
      ],
      "source": [
        "!pip install torch torchvision transformers"
      ]
    },
    {
      "cell_type": "code",
      "execution_count": null,
      "metadata": {
        "colab": {
          "base_uri": "https://localhost:8080/"
        },
        "id": "BzrkLQqY7v4O",
        "outputId": "52d11687-77ba-4f74-e16e-88d85f23e793"
      },
      "outputs": [
        {
          "output_type": "stream",
          "name": "stdout",
          "text": [
            "Epoch [1/50], Loss: 0.073\n",
            "Epoch [2/50], Loss: 0.072\n",
            "Epoch [3/50], Loss: 0.071\n",
            "Epoch [4/50], Loss: 0.070\n",
            "Epoch [5/50], Loss: 0.067\n",
            "Epoch [6/50], Loss: 0.064\n",
            "Epoch [7/50], Loss: 0.059\n",
            "Epoch [8/50], Loss: 0.056\n",
            "Epoch [9/50], Loss: 0.051\n",
            "Epoch [10/50], Loss: 0.047\n",
            "Epoch [11/50], Loss: 0.043\n",
            "Epoch [12/50], Loss: 0.039\n",
            "Epoch [13/50], Loss: 0.035\n",
            "Epoch [14/50], Loss: 0.030\n",
            "Epoch [15/50], Loss: 0.026\n",
            "Epoch [16/50], Loss: 0.023\n",
            "Epoch [17/50], Loss: 0.019\n",
            "Epoch [18/50], Loss: 0.016\n",
            "Epoch [19/50], Loss: 0.014\n",
            "Epoch [20/50], Loss: 0.011\n",
            "Epoch [21/50], Loss: 0.010\n",
            "Epoch [22/50], Loss: 0.008\n",
            "Epoch [23/50], Loss: 0.007\n",
            "Epoch [24/50], Loss: 0.006\n",
            "Epoch [25/50], Loss: 0.005\n",
            "Epoch [26/50], Loss: 0.004\n",
            "Epoch [27/50], Loss: 0.004\n",
            "Epoch [28/50], Loss: 0.003\n",
            "Epoch [29/50], Loss: 0.003\n",
            "Epoch [30/50], Loss: 0.002\n",
            "Epoch [31/50], Loss: 0.002\n",
            "Epoch [32/50], Loss: 0.002\n",
            "Epoch [33/50], Loss: 0.002\n",
            "Epoch [34/50], Loss: 0.002\n",
            "Epoch [35/50], Loss: 0.001\n",
            "Epoch [36/50], Loss: 0.001\n",
            "Epoch [37/50], Loss: 0.001\n",
            "Epoch [38/50], Loss: 0.001\n",
            "Epoch [39/50], Loss: 0.001\n",
            "Epoch [40/50], Loss: 0.001\n",
            "Epoch [41/50], Loss: 0.001\n",
            "Epoch [42/50], Loss: 0.001\n",
            "Epoch [43/50], Loss: 0.001\n",
            "Epoch [44/50], Loss: 0.001\n",
            "Epoch [45/50], Loss: 0.001\n",
            "Epoch [46/50], Loss: 0.001\n",
            "Epoch [47/50], Loss: 0.001\n",
            "Epoch [48/50], Loss: 0.000\n",
            "Epoch [49/50], Loss: 0.000\n",
            "Epoch [50/50], Loss: 0.000\n"
          ]
        }
      ],
      "source": [
        "!python train.py"
      ]
    },
    {
      "cell_type": "code",
      "execution_count": null,
      "metadata": {
        "id": "u7Zv1iqx-hRg",
        "colab": {
          "base_uri": "https://localhost:8080/"
        },
        "outputId": "fb04ca53-51e7-4bee-c3df-8452a4c85a65"
      },
      "outputs": [
        {
          "output_type": "stream",
          "name": "stdout",
          "text": [
            "/content/text-to-image-model/generate_image.py:8: FutureWarning: You are using `torch.load` with `weights_only=False` (the current default value), which uses the default pickle module implicitly. It is possible to construct malicious pickle data which will execute arbitrary code during unpickling (See https://github.com/pytorch/pytorch/blob/main/SECURITY.md#untrusted-models for more details). In a future release, the default value for `weights_only` will be flipped to `True`. This limits the functions that could be executed during unpickling. Arbitrary objects will no longer be allowed to be loaded via this mode unless they are explicitly allowlisted by the user via `torch.serialization.add_safe_globals`. We recommend you start setting `weights_only=True` for any use case where you don't have full control of the loaded file. Please open an issue on GitHub for any issues related to this experimental feature.\n",
            "  model.load_state_dict(torch.load('model_reduced.safetensors'))\n",
            "/usr/bin/xdg-open: 882: www-browser: not found\n",
            "/usr/bin/xdg-open: 882: links2: not found\n",
            "/usr/bin/xdg-open: 882: elinks: not found\n",
            "/usr/bin/xdg-open: 882: links: not found\n",
            "/usr/bin/xdg-open: 882: lynx: not found\n",
            "/usr/bin/xdg-open: 882: w3m: not found\n",
            "xdg-open: no method available for opening '/tmp/tmpcybunmpg.PNG'\n"
          ]
        }
      ],
      "source": [
        "\n",
        "!python generate_image.py"
      ]
    },
    {
      "cell_type": "code",
      "execution_count": null,
      "metadata": {
        "colab": {
          "base_uri": "https://localhost:8080/"
        },
        "id": "m8h7qMrtCDAs",
        "outputId": "19f8e661-cfba-45e7-b2b0-8d48b39b4870"
      },
      "outputs": [
        {
          "name": "stdout",
          "output_type": "stream",
          "text": [
            "Mounted at /content/drive\n"
          ]
        }
      ],
      "source": [
        "\n",
        "from google.colab import drive\n",
        "drive.mount('/content/drive')"
      ]
    },
    {
      "cell_type": "markdown",
      "metadata": {
        "id": "_3naSMqMCALP"
      },
      "source": [
        "from google.colab import drive\n",
        "drive.mount('/content/drive')"
      ]
    }
  ],
  "metadata": {
    "accelerator": "TPU",
    "colab": {
      "gpuType": "V28",
      "provenance": [],
      "mount_file_id": "1wz5SusP09ilxh5_RiHrHBrOc8xcXT2jH",
      "authorship_tag": "ABX9TyNoDFf+TGMKrpZOuvFdOF7c",
      "include_colab_link": true
    },
    "kernelspec": {
      "display_name": "Python 3",
      "name": "python3"
    },
    "language_info": {
      "name": "python"
    }
  },
  "nbformat": 4,
  "nbformat_minor": 0
}